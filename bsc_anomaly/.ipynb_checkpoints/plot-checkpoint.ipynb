{
 "cells": [
  {
   "cell_type": "code",
   "execution_count": 1,
   "metadata": {},
   "outputs": [],
   "source": [
    "from os.path import expanduser\n",
    "import csv\n",
    "import time\n",
    "import matplotlib.pyplot as plt\n",
    "import numpy as np\n",
    "\n",
    "home = expanduser('~')\n",
    "file = open(home+'/sim_ws/experimentlog.csv', 'r')\n",
    "csv_reader = csv.reader(file, delimiter=',')"
   ]
  },
  {
   "cell_type": "code",
   "execution_count": 2,
   "metadata": {},
   "outputs": [
    {
     "name": "stdout",
     "output_type": "stream",
     "text": [
      "<_io.TextIOWrapper name='/home/kevinschonberg/sim_ws/experimentlog.csv' mode='r' encoding='UTF-8'>\n",
      "x,         y,         yaw,         speed,         time\n"
     ]
    }
   ],
   "source": [
    "print(file)\n",
    "line_count = 0\n",
    "x_list = []\n",
    "y_list = []\n",
    "yaw_list = []\n",
    "speed_list = []\n",
    "time_list = []\n",
    "for row in csv_reader:\n",
    "        if line_count == 0:\n",
    "            print(f'{\",         \".join(row)}')\n",
    "            line_count += 1\n",
    "        else:\n",
    "            if (time_list == [] or float(row[4]) > time_list[-1]+0):\n",
    "                x_list.append(float(row[0]))\n",
    "                y_list.append(float(row[1]))\n",
    "                yaw_list.append(float(row[2]))\n",
    "                speed_list.append(float(row[3]))\n",
    "                time_list.append(float(row[4]))\n",
    "            #print(f'{row[0]}, {row[1]},  {row[2]}, {row[3]}, {row[4]}')\n",
    "                line_count += 1"
   ]
  },
  {
   "cell_type": "code",
   "execution_count": 4,
   "metadata": {},
   "outputs": [],
   "source": [
    "from scipy.signal import lfilter\n",
    "\n",
    "n = 150  # the larger n is, the smoother curve will be\n",
    "b = [1.0 / n] * n\n",
    "a = 1\n",
    "speed_list_filteret = lfilter(b, a, speed_list)"
   ]
  },
  {
   "cell_type": "code",
   "execution_count": 5,
   "metadata": {},
   "outputs": [],
   "source": [
    "# Return double of n\n",
    "def setuptime(n):\n",
    "    return n - time_list[0]\n",
    " \n",
    "# We double all numbers using map()\n",
    "corrected_time = list(map(setuptime, time_list))\n",
    "\n",
    "data_points = np.linspace(0,corrected_time[-1],len(time_list))\n",
    "\n",
    "plt.plot(data_points, speed_list_filteret)\n",
    "#plt.xlim(0, 2)\n",
    "plt.show()"
   ]
  },
  {
   "cell_type": "code",
   "execution_count": null,
   "metadata": {},
   "outputs": [],
   "source": [
    "acceleration_list = [0]\n",
    "for n in range(len(speed_list)-1):\n",
    "    acceleration_list.append((speed_list_filteret[n+1]-speed_list_filteret[n])/(data_points[n+1]-data_points[n]))\n",
    "\n",
    "plt.plot(data_points, acceleration_list)\n",
    "#plt.xlim(0, 2)\n",
    "plt.show()"
   ]
  },
  {
   "cell_type": "code",
   "execution_count": null,
   "metadata": {},
   "outputs": [],
   "source": [
    "jerk_list = [0]\n",
    "for n in range(len(acceleration_list)-1):\n",
    "    jerk_list.append((acceleration_list[n+1]-acceleration_list[n]))\n",
    "\n",
    "plt.plot(data_points, jerk_list)\n",
    "#plt.xlim(0.7, 1)\n",
    "plt.show()"
   ]
  },
  {
   "cell_type": "code",
   "execution_count": null,
   "metadata": {},
   "outputs": [],
   "source": []
  }
 ],
 "metadata": {
  "kernelspec": {
   "display_name": "Python 3 (ipykernel)",
   "language": "python",
   "name": "python3"
  },
  "language_info": {
   "codemirror_mode": {
    "name": "ipython",
    "version": 3
   },
   "file_extension": ".py",
   "mimetype": "text/x-python",
   "name": "python",
   "nbconvert_exporter": "python",
   "pygments_lexer": "ipython3",
   "version": "3.8.10"
  },
  "vscode": {
   "interpreter": {
    "hash": "916dbcbb3f70747c44a77c7bcd40155683ae19c65e1c03b4aa3499c5328201f1"
   }
  }
 },
 "nbformat": 4,
 "nbformat_minor": 2
}
